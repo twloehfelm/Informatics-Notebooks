{
 "cells": [
  {
   "cell_type": "code",
   "execution_count": null,
   "id": "e79a9f1c-7f30-469a-bf2d-e4e0edd5b6ec",
   "metadata": {},
   "outputs": [],
   "source": [
    "!pip install regex"
   ]
  },
  {
   "cell_type": "code",
   "execution_count": null,
   "id": "dee54283-8a1a-4522-b737-1f5772ec3b7f",
   "metadata": {},
   "outputs": [],
   "source": [
    "import regex\n",
    "import pprint\n",
    "pp = pprint.PrettyPrinter(indent=2)"
   ]
  },
  {
   "cell_type": "code",
   "execution_count": null,
   "id": "9e418207-af1b-45f7-8dff-8185d48f09c8",
   "metadata": {},
   "outputs": [],
   "source": [
    "email_regex = r\"\\b[A-Z0-9._%+-]+@[A-Z0-9.-]+\\.[A-Z]{2,}\\b\""
   ]
  },
  {
   "cell_type": "code",
   "execution_count": null,
   "id": "6527fb42-7711-4806-96bf-3b45532ed627",
   "metadata": {},
   "outputs": [],
   "source": [
    "email_validator = regex.compile(email_regex, regex.IGNORECASE)"
   ]
  },
  {
   "cell_type": "code",
   "execution_count": null,
   "id": "8c90b4f1-3d3a-44d5-a707-35c8ede2e84a",
   "metadata": {},
   "outputs": [],
   "source": [
    "text = \"\"\"\n",
    "If you have any questions please email me at twloehfelm@ucdavis.edu, \n",
    "twloehfelm@gmail.com, or thomas.loehfelm@panorad.io and I'll respond \n",
    "as soon as I can.\"\"\"\n"
   ]
  },
  {
   "cell_type": "code",
   "execution_count": null,
   "id": "6da7209e-275b-4b85-aa78-6985134fbc34",
   "metadata": {},
   "outputs": [],
   "source": [
    "email_validator.findall(text)"
   ]
  },
  {
   "cell_type": "code",
   "execution_count": null,
   "id": "cde1dc2c-a97b-46b5-81f6-87d91408a34d",
   "metadata": {},
   "outputs": [],
   "source": [
    "def extract_tirads(report):\n",
    "    \"\"\"\n",
    "    Uses RegEx matching to find TIRADS classifications in a report.\n",
    "    \"\"\"\n",
    "    tirads_mentions = []\n",
    "    max_tirads = 0\n",
    "    tr_scores = {\n",
    "        1: \"TR1 - Benign.\",\n",
    "        2: \"TR2 - Not suspicious.\",\n",
    "        3: \"TR3 - Mildly suspicious.\",\n",
    "        4: \"TR4 - Moderately suspicious.\",\n",
    "        5: \"TR5 - Highly suspicious.\"\n",
    "    }\n",
    "    report = report.replace(\"\\n\", \" \")\n",
    "    for tr_score in tr_scores:\n",
    "        for match in regex.finditer(\"(\"+tr_scores[tr_score]+\")\", report, regex.M):\n",
    "            tirads = tr_score\n",
    "            if tirads > max_tirads: max_tirads = tirads\n",
    "            first_pos = match.start()\n",
    "            last_pos = match.end()\n",
    "            mention = {\"tirads\": tirads, \"first_pos\": first_pos, \"last_pos\": last_pos}\n",
    "            tirads_mentions.append(mention)\n",
    "    \n",
    "    return {\"max\": max_tirads, \"all\": tirads_mentions}"
   ]
  },
  {
   "cell_type": "code",
   "execution_count": null,
   "id": "49b82d22-90fb-468a-a57f-2f0df717626f",
   "metadata": {},
   "outputs": [],
   "source": [
    "report = \"\"\"\n",
    "US THYROID / THYROIDECTOMY\\nCOMPARISON: None\\n\\nINDICATION: Signs/symptoms: Neck swelling  Suspected dx/hx: Other, specify:\\nunknown  Comments:\\n\\nTECHNIQUE: Multiple transverse and sagittal grayscale and color Doppler\\nsonographic images of the thyroid gland were obtained.\\n\\nFINDINGS:\\nEvaluation limited by inferior position of the thyroid.\\n\\nRight lobe: 3.7 x 2.0 x 1.6 cm (5.6 cc), heterogeneous parenchyma.\\nNodules:\\n1. Mid lobe, 1.4 x 1.0 x 1.2 cm, solid or almost completely solid (2\\npts), isoechoic (1 pt), wider-than-tall (0 pt), with smooth margins (0 pt).\\nMacrocalcifications: absent (0 pt). Peripheral rim calcification: absent (0\\npt). Punctate echogenic foci: none (0 pt). TR3 - Mildly suspicious.\\n2. Inferior pole, 2.0 x 1.7 x 1.6 cm, solid or almost completely solid\\n(2 pts), hypoechoic (2 pts), wider-than-tall (0 pt), with smooth margins (0\\npt). Macrocalcifications: absent (0 pt). Peripheral rim calcification:\\nabsent (0 pt). Punctate echogenic foci: none (0 pt). TR4 - Moderately\\nsuspicious.\\n3. Additional subcentimeter nodule that does not meet criteria for FNA\\nor follow-up.\\n\\nLeft lobe: 2.4 x 1.4 x 1.3 cm (2.1 cc), heterogeneous parenchyma.\\nNodules:\\n1. Inferior pole, 0.9 x 1.0 x 0.9 cm, solid or almost completely solid\\n(2 pts), hypoechoic (2 pts), wider-than-tall (0 pt), with smooth margins (0\\npt). Macrocalcifications: absent (0 pt). Peripheral rim calcification:\\nabsent (0 pt). Punctate echogenic foci: none (0 pt). TR3 - Mildly\\nsuspicious.\\n2. Additional subcentimeter nodules do not meet criteria for FNA or\\nfollow-up.\\n\\nIsthmus: 0.2 cm.\\nNodules: none.\\n\\nNo abnormal cervical lymph nodes. \\n\\nRight submandibular gland: 3.5 x 1.2 x 3.4 cm. Normal echotexture.\\nProminent salivary duct without obstructing stone.\\nLeft submandibular gland: 3.0 x 1.6 x 3.3 cm. Normal echotexture.\\n\\nIMPRESSION:\\n1. Mildly dilated right submandibular salivary duct. The remainder of\\nthe gland is not impressive for an inflammatory process, but consider\\nsialadenitis as a cause of the patient's right neck pain. No obstructing\\nstones.\\n2. Multiple bilateral thyroid nodules. Only the 2 cm right inferior\\npole TR-4 nodule meets criteria for FNA or follow-up. Please see\\nrecommendations below.\\n3. Heterogenous thyroid parenchyma, suggestive of chronic thyroiditis.\\n\\n\\nACR TI-RADS Consensus Recommendations:\\nTR-5 - Highly suspicious: FNA if > 1 cm, follow if > 0.5 cm\\nTR-4 - Moderately suspicious: FNA > 1.5 cm, follow if > 1 cm\\nTR-3 - Mildly suspicious: FNA if > 2.5 cm, follow if > 1.5 cm\\nTR-2 - Not suspicious: FNA is not recommended\\nTR-1 - Benign: FNA is not recommended\\n\\nReference: ACR Thyroid Imaging, Reporting and Data System (TI-RADS): White\\nPaper of the ACR TI-RADS Committee. Tessler et al. J Am Coll Radiol. 2017\\nMay;14(5):587-595. PMID:28372962.\\n\n",
    "\"\"\""
   ]
  },
  {
   "cell_type": "code",
   "execution_count": null,
   "id": "b3b8d99d-de34-44a5-bda1-58aa6cb7afc5",
   "metadata": {},
   "outputs": [],
   "source": [
    "tirads = extract_tirads(report)"
   ]
  },
  {
   "cell_type": "code",
   "execution_count": null,
   "id": "4125c378-ebae-4a1b-b670-7dd9d40e81ff",
   "metadata": {},
   "outputs": [],
   "source": [
    "pp.pprint(tirads)"
   ]
  },
  {
   "cell_type": "code",
   "execution_count": null,
   "id": "a7250929-e157-4a0a-94de-c3310d23c161",
   "metadata": {},
   "outputs": [],
   "source": []
  }
 ],
 "metadata": {
  "kernelspec": {
   "display_name": "Python 3 (ipykernel)",
   "language": "python",
   "name": "python3"
  },
  "language_info": {
   "codemirror_mode": {
    "name": "ipython",
    "version": 3
   },
   "file_extension": ".py",
   "mimetype": "text/x-python",
   "name": "python",
   "nbconvert_exporter": "python",
   "pygments_lexer": "ipython3",
   "version": "3.8.5"
  }
 },
 "nbformat": 4,
 "nbformat_minor": 5
}
