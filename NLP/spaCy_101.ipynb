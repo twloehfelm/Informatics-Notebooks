{
 "cells": [
  {
   "cell_type": "code",
   "execution_count": null,
   "id": "76dbbcea-334a-49b0-bb2e-5ab358bd8d68",
   "metadata": {},
   "outputs": [],
   "source": [
    "!pip install medspacy\n",
    "!pip install https://s3-us-west-2.amazonaws.com/ai2-s2-scispacy/releases/v0.4.0/en_core_sci_sm-0.4.0.tar.gz"
   ]
  },
  {
   "cell_type": "code",
   "execution_count": null,
   "id": "6df0fc28-b381-4d13-a799-6854f11725b8",
   "metadata": {},
   "outputs": [],
   "source": [
    "incl_scispacy_umls_linker = False"
   ]
  },
  {
   "cell_type": "code",
   "execution_count": null,
   "id": "7660b654-7a13-49b6-b0ec-bd7dc05b03c7",
   "metadata": {},
   "outputs": [],
   "source": [
    "import pprint\n",
    "import spacy\n",
    "import medspacy\n",
    "from medspacy.context import ConTextComponent\n",
    "from medspacy.visualization import visualize_dep, visualize_ent\n",
    "\n",
    "# //For linking to UMLS - not required just for NER and context annotations, only if the CUIs are required\n",
    "# //Adds significantly to load time and doc processing time\n",
    "if incl_scispacy_umls_linker:\n",
    "    !pip install scispacy\n",
    "    from scispacy.linking import EntityLinker\n",
    "\n",
    "import warnings\n",
    "warnings.filterwarnings('ignore')\n",
    "\n",
    "pp = pprint.PrettyPrinter(indent=2)"
   ]
  },
  {
   "cell_type": "code",
   "execution_count": null,
   "id": "bf8b7b4b-93fd-4631-9103-2d6f8ba63a6e",
   "metadata": {},
   "outputs": [],
   "source": [
    "nlp = spacy.load(\"en_core_sci_sm\")\n",
    "if incl_scispacy_umls_linker:\n",
    "    # //Add this pipeline component to get UMLS CUIs annotated\n",
    "    nlp.add_pipe(\"scispacy_linker\", config={\"resolve_abbreviations\": True, \"linker_name\": \"umls\"})\n",
    "context = ConTextComponent(nlp)\n",
    "nlp.add_pipe(\"medspacy_context\")\n",
    "print(nlp.pipe_names)"
   ]
  },
  {
   "cell_type": "code",
   "execution_count": null,
   "id": "0e7126d8-4564-4b01-a268-15faad6f2f11",
   "metadata": {},
   "outputs": [],
   "source": [
    "text = \"\"\"IMPRESSION: \n",
    "1. Cholelithiasis with positive sonographic Murphy sign. However gallbladder is \n",
    "nondistended without wall thickening. Equivocal for acute cholecystitis.\n",
    "2. Mild intra and extrahepatic ductal dilatation. Correlate with LFTs.\n",
    "If obstructive pattern, consider MRCP.\"\"\"\n",
    "doc = nlp(text)\n",
    "sentences = [{\"idx\":sent_id, \"start\":sent.start_char, \"end\":sent.end_char} for sent_id, sent in enumerate(doc.sents)]\n",
    "results = []\n",
    "for ent in doc.ents:\n",
    "    if incl_scispacy_umls_linker:\n",
    "        try:\n",
    "            cuis = ent._.kb_ents[0][0]\n",
    "        except IndexError:\n",
    "            cuis = None\n",
    "    else:\n",
    "        cuis = None\n",
    "    result = {\n",
    "        \"concept\": ent,\n",
    "        \"start\": ent.start_char,\n",
    "        \"end\": ent.end_char,\n",
    "        \"cui\": cuis,\n",
    "        \"is_negated\": ent._.is_negated,\n",
    "        \"is_uncertain\": ent._.is_uncertain,\n",
    "        \"is_conditional\": ent._.is_hypothetical,\n",
    "        \"is_historic\": ent._.is_historical,\n",
    "        \"subject\": \"family\" if ent._.is_family else \"patient\",\n",
    "        \"sentence\": [sentence[\"idx\"] for sentence in sentences if sentence[\"start\"]<= ent.start_char and sentence[\"end\"]>=ent.end_char][0]\n",
    "    }\n",
    "    results.append(result)\n",
    "    if incl_scispacy_umls_linker:\n",
    "        linker = nlp.get_pipe(\"scispacy_linker\")\n",
    "        for umls_ent in ent._.kb_ents:\n",
    "            print(linker.kb.cui_to_entity[umls_ent[0]])\n",
    "\n",
    "visualize_ent(doc)"
   ]
  },
  {
   "cell_type": "code",
   "execution_count": null,
   "id": "4b4e9c33-89ad-4379-9494-5bbbabd8430d",
   "metadata": {},
   "outputs": [],
   "source": [
    "results"
   ]
  },
  {
   "cell_type": "code",
   "execution_count": null,
   "id": "b02c12f9-6edd-475d-b57d-1bc172914893",
   "metadata": {},
   "outputs": [],
   "source": [
    "for r in results:\n",
    "    if r['concept'].text == \"acute cholecystitis\":\n",
    "        pp.pprint(r)"
   ]
  },
  {
   "cell_type": "code",
   "execution_count": null,
   "id": "6e50c383-6bd6-4b47-841a-ab1d2e42e16c",
   "metadata": {},
   "outputs": [],
   "source": []
  }
 ],
 "metadata": {
  "kernelspec": {
   "display_name": "Python 3 (ipykernel)",
   "language": "python",
   "name": "python3"
  },
  "language_info": {
   "codemirror_mode": {
    "name": "ipython",
    "version": 3
   },
   "file_extension": ".py",
   "mimetype": "text/x-python",
   "name": "python",
   "nbconvert_exporter": "python",
   "pygments_lexer": "ipython3",
   "version": "3.8.5"
  }
 },
 "nbformat": 4,
 "nbformat_minor": 5
}
