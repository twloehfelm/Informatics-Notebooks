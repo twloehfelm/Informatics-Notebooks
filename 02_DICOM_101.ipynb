{
  "nbformat": 4,
  "nbformat_minor": 0,
  "metadata": {
    "colab": {
      "name": "SAR 2020 - DICOM Basics.ipynb",
      "provenance": [],
      "collapsed_sections": []
    },
    "kernelspec": {
      "name": "python3",
      "display_name": "Python 3"
    }
  },
  "cells": [
    {
      "cell_type": "markdown",
      "metadata": {
        "id": "QagXfoTD6JbS"
      },
      "source": [
        "<table width=\"100%\">\n",
        "    <tr>\n",
        "        <td valign=\"top\"><img src=\"https://cdn.ymaws.com/www.abdominalradiology.org/graphics/logo.jpg\"/></td>\n",
        "        <td valign=\"middle\" align=\"right\"><h1>SAR 2020<br/>AI Masters Class</td>\n",
        "    </tr>\n",
        "    <tr>\n",
        "      <td align=\"center\" colspan=2><h1>DICOM Basics</h1></td>\n",
        "    </tr>\n",
        "</table>"
      ]
    },
    {
      "cell_type": "markdown",
      "metadata": {
        "id": "Z4dTj9Z57lS_"
      },
      "source": [
        "Radiologists live and breathe DICOM, the standard file format for all diagnostic imaging studies.\n",
        "\n",
        "DICOM files contain the actual pixel values for the image, of course, but also a bunch of *metadata*, or data about data.\n",
        "\n",
        "DICOM metadata encodes the context of the image - which patient it refers to, when and where it was obtained, how it relates to other images (i.e. as part of the same series or study), and some technical parameters that might be necessary to properly reconstruct the full image set.\n",
        "\n",
        "```pydicom``` is a popular Python library for dealing with DICOM data. If we install it on our Colab VM we can then import it and use its functions to manipulate DICOM.\n",
        "\n"
      ]
    },
    {
      "cell_type": "code",
      "metadata": {
        "id": "DhZpM3ia6B24"
      },
      "source": [
        "%matplotlib inline\n",
        "\n",
        "# Install pydicom on the linux VM\n",
        "!pip3 install pydicom\n",
        "\n",
        "from pydicom import dcmread\n",
        "from pydicom.multival import MultiValue\n",
        "from pydicom.errors import InvalidDicomError\n",
        "import matplotlib.pyplot as plt\n",
        "import os\n",
        "from skimage.transform import resize"
      ],
      "execution_count": null,
      "outputs": []
    },
    {
      "cell_type": "code",
      "metadata": {
        "id": "EPw-KgQJ6r2_"
      },
      "source": [
        "# Download a few example dicom radiographs and save them to /content/images/abdxr_dicom\n",
        "!wget -q --no-check-certificate 'https://www.dropbox.com/s/9uryqy3fplyy05n/dicoms.zip' -O ./dicoms.zip\n",
        "!mkdir -p images\n",
        "!rm -rf ./sample_data\n",
        "!rm -rf ./images/dicoms\n",
        "!mkdir ./images/dicoms\n",
        "!cd images; unzip -q \"../dicoms.zip\" -d dicoms\n",
        "# get rid of MAC garbage stuff\n",
        "!rm -rf ./images/__MACOSX\n",
        "!ls images"
      ],
      "execution_count": null,
      "outputs": []
    },
    {
      "cell_type": "code",
      "metadata": {
        "id": "cNda5noprANB"
      },
      "source": [
        "size = 256, 256\n",
        "dicomdir = \"/content/images/dicoms\""
      ],
      "execution_count": null,
      "outputs": []
    },
    {
      "cell_type": "code",
      "metadata": {
        "id": "9m448l64voqv"
      },
      "source": [
        "# from fastai2 medical imaging\n",
        "def windowed(px, w, l):\n",
        "    \"\"\"Windows a pixel_array of Houndfield units\n",
        "    args:\n",
        "      px = pixel array in Houndfield units\n",
        "      w = window width (HU range)\n",
        "      l = window level (center point)\n",
        "    returns:\n",
        "      pixel_array convered to the given window/level\n",
        "    \"\"\"\n",
        "    if type(w) == MultiValue:\n",
        "      w = w[0]\n",
        "    if type(l) == MultiValue:\n",
        "      l = l[0]\n",
        "    px_min = l - w//2\n",
        "    px_max = l + w//2\n",
        "    px[px<px_min] = px_min\n",
        "    px[px>px_max] = px_max\n",
        "    return (px-px_min) / (px_max-px_min) "
      ],
      "execution_count": null,
      "outputs": []
    },
    {
      "cell_type": "code",
      "metadata": {
        "id": "xVwajA_AHj-B"
      },
      "source": [
        "# Read each of the files in dicomdir, print some metadata, and show the image\n",
        "for root, dirs, files in os.walk(dicomdir):\n",
        "  for f in sorted(files, reverse=True):\n",
        "    try:\n",
        "      ds = dcmread(os.path.join(dicomdir, f))\n",
        "    except (PermissionError, InvalidDicomError, FileNotFoundError):\n",
        "      continue\n",
        "    \n",
        "    im = ds.pixel_array\n",
        "    im = im*ds.RescaleSlope + ds.RescaleIntercept\n",
        "    im = windowed(im, ds.WindowWidth, ds.WindowCenter)\n",
        "    if(ds.PhotometricInterpretation == 'MONOCHROME2'):\n",
        "        cmap=plt.cm.bone\n",
        "    elif(ds.PhotometricInterpretation == 'MONOCHROME1'):\n",
        "        cmap=plt.cm.bone_r\n",
        "    else:\n",
        "        print(\"Unknown Photometric Interpretation\")\n",
        "        cmap=plt.cm.bone\n",
        "        continue\n",
        "    \n",
        "    print()\n",
        "    print(\"Filename..................:\", f)\n",
        "    print(\"Storage type..............:\", ds.SOPClassUID)\n",
        "    print()\n",
        "\n",
        "    pat_name = ds.PatientName\n",
        "    display_name = pat_name.family_name + \", \" + pat_name.given_name\n",
        "    print(\"Patient name..............:\", display_name)\n",
        "    print(\"Patient ID................:\", ds.PatientID)\n",
        "    print(\"Modality..................:\", ds.Modality)\n",
        "    print(\"Rescale Intercept.........:\", ds.RescaleIntercept)\n",
        "    print(\"Rescale Slope.............:\", ds.RescaleSlope)\n",
        "    \n",
        "    if 'PixelData' in ds:\n",
        "      rows = int(ds.Rows)\n",
        "      cols = int(ds.Columns)\n",
        "      print(\"Image size ...............: {rows:d} x {cols:d}, {size:d} bytes\".format(\n",
        "          rows=rows, cols=cols, size=len(ds.PixelData)))\n",
        "      print(\"Photometric Interpretation:\", ds.PhotometricInterpretation)\n",
        "    \n",
        "    plt.imshow(im, cmap=\"gray\")  \n",
        "    plt.show()"
      ],
      "execution_count": null,
      "outputs": []
    },
    {
      "cell_type": "code",
      "metadata": {
        "id": "mnxC6zA0Y5tB"
      },
      "source": [
        "# Look at the entire DICOM metadata header\n",
        "ds"
      ],
      "execution_count": null,
      "outputs": []
    },
    {
      "cell_type": "markdown",
      "metadata": {
        "id": "NHkDOE05lArT"
      },
      "source": [
        "If you follow along in the code block above, you'll see that we read the pixel data from the DICOM file with \n",
        "\n",
        "```\n",
        "im = ds.pixel_array\n",
        "```\n",
        "\n",
        "What IS a pixel array? And while we're at it, how is it that we can do math with images??\n",
        "\n",
        "A pixel array is nothing more than numbers organized in rows and columns.\n",
        "\n",
        "In fact, we can create an array, save it to a file, and open it directly in Excel! "
      ]
    },
    {
      "cell_type": "code",
      "metadata": {
        "id": "oh8pxa_cnl8M"
      },
      "source": [
        "import numpy as np\n",
        "# Create a simple 5x5 array of 0s and 1s\n",
        "ar = np.asarray(\n",
        "    [\n",
        "      [1, 0, 0, 0, 1],\n",
        "      [0, 1, 0, 1, 0],\n",
        "      [0, 0, 1, 0, 0],\n",
        "      [0, 1, 0, 1, 0],\n",
        "      [1, 0, 0, 0, 1],\n",
        "    ]\n",
        "  ) \n",
        "\n",
        "np.savetxt('array.csv', ar, delimiter=\",\")\n",
        "\n",
        "# See what happens when we resize it\n",
        "size = (64, 64)\n",
        "ar = resize(ar, size, mode='constant', cval=0, preserve_range=True)\n",
        "np.savetxt('array_resized.csv', ar, delimiter=\",\")"
      ],
      "execution_count": null,
      "outputs": []
    },
    {
      "cell_type": "code",
      "metadata": {
        "id": "l5NVoEn8Z053"
      },
      "source": [
        "# We can do the same thing with the DICOM pixel array!\n",
        "im = ds.pixel_array\n",
        "#plt.hist(im.flatten(), bins=20)\n",
        "#plt.show()\n",
        "im = im*ds.RescaleSlope + ds.RescaleIntercept\n",
        "im = resize(im, [128, 128], preserve_range=True)\n",
        "#plt.hist(im.flatten(), bins=20)\n",
        "#plt.show()\n",
        "np.savetxt(\"dicom.csv\", im, delimiter=\",\")\n",
        "\n",
        "im = windowed(im, ds.WindowWidth, ds.WindowCenter)\n",
        "#plt.hist(im.flatten(), bins=20)\n",
        "#plt.show()\n",
        "np.savetxt(\"dicom_windowed.csv\", im, delimiter=\",\")"
      ],
      "execution_count": null,
      "outputs": []
    },
    {
      "cell_type": "markdown",
      "metadata": {
        "id": "pp-arl-TwAQG"
      },
      "source": [
        "Thinking of an image as a spreadsheet containing organized rows and columns of numbers helps to de-mystify the idea of performing math operations on images - neural network operations on image data are no different than adding, averaging, or finding the maximum value in a range of Excel cells, and then creating new arrays from the results of those operations, peforming similar operations again, ad infinitum :)\n",
        "\n",
        "You can actually implement a simple facial recognition algorithm (and any other type of neural network if you try hard enough) [completely in Excel](https://towardsdatascience.com/cutting-edge-face-recognition-is-complicated-these-spreadsheets-make-it-easier-e7864dbf0e1a)! "
      ]
    }
  ]
}