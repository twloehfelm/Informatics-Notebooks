{
 "cells": [
  {
   "cell_type": "code",
   "execution_count": null,
   "id": "e79a9f1c-7f30-469a-bf2d-e4e0edd5b6ec",
   "metadata": {},
   "outputs": [],
   "source": [
    "!pip install regex"
   ]
  },
  {
   "cell_type": "markdown",
   "id": "6ad86b5b-cc4b-47c5-aa9b-ed5eb9da0b4f",
   "metadata": {},
   "source": [
    "Regular Expressions (RegEx) are a formal grammar for defining patterns in text. Once you define a RegEx pattern and compile it, you can apply it to a document to check if that pattern exists and if so, extract all or specific parts of it.\n",
    "\n",
    "This makes it really useful for extracting information from a document that is either highly structured itself (such as a radiology report produced with a standard template), or where the target text has a predictable format regardless of the overall format of the document, such as finding the Gleason score in a pathology report.\n",
    "\n",
    "---"
   ]
  },
  {
   "cell_type": "markdown",
   "id": "0f4e2ce7-3f4b-44d7-8ff5-0a82aab6aa45",
   "metadata": {},
   "source": [
    "First we import the regex python library, and another one called pretty print which will help format some of the things we print out so they look nicer."
   ]
  },
  {
   "cell_type": "code",
   "execution_count": null,
   "id": "dee54283-8a1a-4522-b737-1f5772ec3b7f",
   "metadata": {},
   "outputs": [],
   "source": [
    "import regex\n",
    "import pprint\n",
    "pp = pprint.PrettyPrinter(indent=2)"
   ]
  },
  {
   "cell_type": "markdown",
   "id": "5aeeb501-0b29-4f48-b92a-8df5c35e4cff",
   "metadata": {},
   "source": [
    "Email addresses are a good example of text that has a predictable format regardless of the overall format of the parent document. Here's a RegEx that will match valid email addresses:"
   ]
  },
  {
   "cell_type": "code",
   "execution_count": null,
   "id": "9e418207-af1b-45f7-8dff-8185d48f09c8",
   "metadata": {},
   "outputs": [],
   "source": [
    "email_regex = r\"\\b[A-Z0-9._%+-]+@[A-Z0-9.-]+\\.[A-Z]{2,}\\b\""
   ]
  },
  {
   "cell_type": "markdown",
   "id": "c68270e3-9de8-458a-9aab-ebbb23bd24f0",
   "metadata": {},
   "source": [
    "Breaking that down, we have:\n",
    "\n",
    "***r\"...\"***: The r prefix on a string tells python to consider it as raw characters and not try to interpret it. Python might have it's own interpretation of what \"\\b\" means, and in this case we want RegEx to make that determination, not Python\n",
    "\n",
    "***\\b***: This is a RegEx *token* that indicates we want to limit our matches to text that occurs at *word boundaries*, so not in the middle of a word. A word boundary can be the start of a new line, text after a space, or preceding punctuation marks.\n",
    "\n",
    "***[A-Z0-9._%+-]***: The square brackets indicate that we are defining a *character class*, and the contents of the square brackets are the characters that we want to match. Ranges are separated by a hyphen, so *A-Z* means we'll accept any character between A-Z, and similarly for *0-9*. We will also accept the literal characters \".\", \"_\", \"%\", \"+\", and \"-\", which are all valid characters for the start of an email address.\n",
    "\n",
    "***+***: The plus sign after the character class means we require one or more characters from the class to match the target for it to be considered valid.\n",
    "\n",
    "So far, our RegEx would match the prefix of an email address, so \"twloehfelm\", \"thomas.loehfelm\", and \"t_w_loehfelm2\", but not the whole thing.\n",
    "\n",
    "***@***: The \"@\" outside of a character class means we requre that exact character to occur. All email addresses follow the pattern \"prefix@domain\", so \"@\" will always be found in a valid email address.\n",
    "\n",
    "***[A-Z0-9.-]+***: Similar to the prefix, we'll accept any of these characters and require at least one of them (notice the *+* at the end).\n",
    "\n",
    "***\\\\.***: We require there to be a single period preceding the final component of the domain.\n",
    "\n",
    "***[A-Z]{2,}***: This is the final part of the domain (i.e. \"com\", \"org\", \"io\"), and is required to be two or more alpha characters"
   ]
  },
  {
   "cell_type": "code",
   "execution_count": null,
   "id": "6527fb42-7711-4806-96bf-3b45532ed627",
   "metadata": {},
   "outputs": [],
   "source": [
    "email_validator = regex.compile(email_regex, regex.IGNORECASE)"
   ]
  },
  {
   "cell_type": "code",
   "execution_count": null,
   "id": "8c90b4f1-3d3a-44d5-a707-35c8ede2e84a",
   "metadata": {},
   "outputs": [],
   "source": [
    "text = \"\"\"\n",
    "If you have any questions please email me at twloehfelm@ucdavis.edu, \n",
    "twloehfelm@gmail.com, or thomas.loehfelm@panorad.io and I'll respond \n",
    "as soon as I can.\"\"\"\n"
   ]
  },
  {
   "cell_type": "markdown",
   "id": "728bf4eb-99ac-4c47-a1af-e217d1af0eac",
   "metadata": {},
   "source": [
    "Once we've compiled a RegEx pattern in Python, we can search a document to find all of the matching text:"
   ]
  },
  {
   "cell_type": "code",
   "execution_count": null,
   "id": "6da7209e-275b-4b85-aa78-6985134fbc34",
   "metadata": {},
   "outputs": [],
   "source": [
    "email_validator.findall(text)"
   ]
  },
  {
   "cell_type": "markdown",
   "id": "fed49ac0-db56-47ce-a9bb-c5d30808fe17",
   "metadata": {},
   "source": [
    "---\n",
    "Here's an function that will extract TI-RADS assignments from our Thyroid ultrasound reports.\n",
    "\n",
    "Note that we are defining a dictionary object of {key: value} pairs where the key is an integer from 1-5, and the value is a RegEx pattern we are searching for. In this case, we are looking for text that exactly matches the template text, so the RegEx pattern is literally just the text we want to find.\n",
    "\n",
    "Note that we first replace newline characters (\"\\n\") with blank spaces (\" \") because Powerscribe automatically inserts newlines to limit the line length of our reports. The TI-RADS assignment then could be \"TR4 - Moderately\\nsuspicious.\" in come cases. Replacing all newlines with spaces fixes that issue.\n",
    "\n",
    "We are storing each TI-RADS mention in a list, keeping track of that the highest TI-RADS score is in the entire document, and then saving all of that output into a dictionary object of {key: value} pairs where the keys are \"max\", and \"all\", the value of \"max\" is an integer from 0-5, and the value of \"all\" is the list of mentions."
   ]
  },
  {
   "cell_type": "code",
   "execution_count": null,
   "id": "b3518d84-f82e-4064-a7cf-fed92d62e872",
   "metadata": {},
   "outputs": [],
   "source": [
    "def extract_tirads(report):\n",
    "    \"\"\"\n",
    "    Uses RegEx matching to find TIRADS classifications in a report.\n",
    "    \"\"\"\n",
    "    tirads_mentions = []\n",
    "    max_tirads = 0\n",
    "    tr_scores = {\n",
    "        1: \"TR1 - Benign.\",\n",
    "        2: \"TR2 - Not suspicious.\",\n",
    "        3: \"TR3 - Mildly suspicious.\",\n",
    "        4: \"TR4 - Moderately suspicious.\",\n",
    "        5: \"TR5 - Highly suspicious.\"\n",
    "    }\n",
    "    report = report.replace(\"\\n\", \" \")\n",
    "    for tr_score in tr_scores:\n",
    "        for match in regex.finditer(\"(\"+tr_scores[tr_score]+\")\", report, regex.M):\n",
    "            tirads = tr_score\n",
    "            if tirads > max_tirads: max_tirads = tirads\n",
    "            first_pos = match.start()\n",
    "            last_pos = match.end()\n",
    "            mention = {\"tirads\": tirads, \"first_pos\": first_pos, \"last_pos\": last_pos}\n",
    "            tirads_mentions.append(mention)\n",
    "    \n",
    "    return {\"max\": max_tirads, \"all\": tirads_mentions}"
   ]
  },
  {
   "cell_type": "code",
   "execution_count": null,
   "id": "49b82d22-90fb-468a-a57f-2f0df717626f",
   "metadata": {},
   "outputs": [],
   "source": [
    "report = \"\"\"\n",
    "US THYROID / THYROIDECTOMY\\nCOMPARISON: None\\n\\nINDICATION: Signs/symptoms: Neck swelling  Suspected dx/hx: Other, specify:\\nunknown  Comments:\\n\\nTECHNIQUE: Multiple transverse and sagittal grayscale and color Doppler\\nsonographic images of the thyroid gland were obtained.\\n\\nFINDINGS:\\nEvaluation limited by inferior position of the thyroid.\\n\\nRight lobe: 3.7 x 2.0 x 1.6 cm (5.6 cc), heterogeneous parenchyma.\\nNodules:\\n1. Mid lobe, 1.4 x 1.0 x 1.2 cm, solid or almost completely solid (2\\npts), isoechoic (1 pt), wider-than-tall (0 pt), with smooth margins (0 pt).\\nMacrocalcifications: absent (0 pt). Peripheral rim calcification: absent (0\\npt). Punctate echogenic foci: none (0 pt). TR3 - Mildly suspicious.\\n2. Inferior pole, 2.0 x 1.7 x 1.6 cm, solid or almost completely solid\\n(2 pts), hypoechoic (2 pts), wider-than-tall (0 pt), with smooth margins (0\\npt). Macrocalcifications: absent (0 pt). Peripheral rim calcification:\\nabsent (0 pt). Punctate echogenic foci: none (0 pt). TR4 - Moderately\\nsuspicious.\\n3. Additional subcentimeter nodule that does not meet criteria for FNA\\nor follow-up.\\n\\nLeft lobe: 2.4 x 1.4 x 1.3 cm (2.1 cc), heterogeneous parenchyma.\\nNodules:\\n1. Inferior pole, 0.9 x 1.0 x 0.9 cm, solid or almost completely solid\\n(2 pts), hypoechoic (2 pts), wider-than-tall (0 pt), with smooth margins (0\\npt). Macrocalcifications: absent (0 pt). Peripheral rim calcification:\\nabsent (0 pt). Punctate echogenic foci: none (0 pt). TR3 - Mildly\\nsuspicious.\\n2. Additional subcentimeter nodules do not meet criteria for FNA or\\nfollow-up.\\n\\nIsthmus: 0.2 cm.\\nNodules: none.\\n\\nNo abnormal cervical lymph nodes. \\n\\nRight submandibular gland: 3.5 x 1.2 x 3.4 cm. Normal echotexture.\\nProminent salivary duct without obstructing stone.\\nLeft submandibular gland: 3.0 x 1.6 x 3.3 cm. Normal echotexture.\\n\\nIMPRESSION:\\n1. Mildly dilated right submandibular salivary duct. The remainder of\\nthe gland is not impressive for an inflammatory process, but consider\\nsialadenitis as a cause of the patient's right neck pain. No obstructing\\nstones.\\n2. Multiple bilateral thyroid nodules. Only the 2 cm right inferior\\npole TR-4 nodule meets criteria for FNA or follow-up. Please see\\nrecommendations below.\\n3. Heterogenous thyroid parenchyma, suggestive of chronic thyroiditis.\\n\\n\\nACR TI-RADS Consensus Recommendations:\\nTR-5 - Highly suspicious: FNA if > 1 cm, follow if > 0.5 cm\\nTR-4 - Moderately suspicious: FNA > 1.5 cm, follow if > 1 cm\\nTR-3 - Mildly suspicious: FNA if > 2.5 cm, follow if > 1.5 cm\\nTR-2 - Not suspicious: FNA is not recommended\\nTR-1 - Benign: FNA is not recommended\\n\\nReference: ACR Thyroid Imaging, Reporting and Data System (TI-RADS): White\\nPaper of the ACR TI-RADS Committee. Tessler et al. J Am Coll Radiol. 2017\\nMay;14(5):587-595. PMID:28372962.\\n\n",
    "\"\"\""
   ]
  },
  {
   "cell_type": "code",
   "execution_count": null,
   "id": "b3b8d99d-de34-44a5-bda1-58aa6cb7afc5",
   "metadata": {},
   "outputs": [],
   "source": [
    "tirads = extract_tirads(report)"
   ]
  },
  {
   "cell_type": "code",
   "execution_count": null,
   "id": "4125c378-ebae-4a1b-b670-7dd9d40e81ff",
   "metadata": {},
   "outputs": [],
   "source": [
    "pp.pprint(tirads)"
   ]
  },
  {
   "cell_type": "markdown",
   "id": "8374e2cd-7ef7-4598-a90f-32ad88473466",
   "metadata": {},
   "source": [
    "That was a pretty simple RegEx pattern, but then can grow to be arbirtarily complex depending on your use case. Extracting Gleason scores turns out to be pretty complicated because Pathologists, just like Radiologists, don't always use the exact same format. Sometimes it is:\n",
    "- Gleason 3+4\n",
    "- Gleason 3 + 4\n",
    "- Gleason's 3+4\n",
    "- Gleason's score: 3+4\n",
    "etc.\n",
    "\n",
    "Here's my current version of a RegEx pattern that seems to match all of the various ways Gleason scores are mentioned in Pathology reports at UC Davis over the last few years:"
   ]
  },
  {
   "cell_type": "code",
   "execution_count": null,
   "id": "e6f52693-f8f5-40c9-89ba-d97c98bdce3a",
   "metadata": {},
   "outputs": [],
   "source": [
    "gleason = \"(?ei)(?:gleason|adenocarcinoma|histologic|primary)(?:[\\s's,])*(?:combined|(?:\\(predominant\\))*)*(?:\\s)*(?:score|grade|pattern)*(?:[s\\s\\(\\:])*(?:primary(?: pattern)*)*\\s*(?:\\:)*(?:grade)*(?:\\:)*\\s*(?:grade|pattern)*\\s*([1-5])(?:[\\+\\-\\.\\s\\]*)*(?:secondary)*\\s*(?:\\(worst remaining\\))*(?:pattern|grade)*(?:[:\\s])*(?:grade|pattern)*(?:[:\\s])*([1-5])\"\n",
    "\n",
    "gleason_regex = regex.compile(gleason)"
   ]
  },
  {
   "cell_type": "markdown",
   "id": "0605a7cb-faac-41ec-93db-6298d8f46641",
   "metadata": {},
   "source": [
    "And here's an example Pathology report. We can apply our Gleason RegEx to it to find all of the mentions of Gleason score, store each one, and keep track of the worst Gleason score found in the whole report:"
   ]
  },
  {
   "cell_type": "code",
   "execution_count": null,
   "id": "010b078e-e128-4dae-8459-0d7bea1ac1e1",
   "metadata": {},
   "outputs": [],
   "source": [
    "text = \"\"\"\n",
    "Gleason 3+4\n",
    "Gleason 4 + 5\n",
    "Gleason's 3+4\n",
    "Gleason's score: 2 + 3\n",
    "Gleasons score: 5+5\n",
    "\"\"\""
   ]
  },
  {
   "cell_type": "code",
   "execution_count": null,
   "id": "3f789b4f-c20c-4589-8c23-80dc8f7b8a4e",
   "metadata": {},
   "outputs": [],
   "source": [
    "max_gleason = 0\n",
    "for match in regex.finditer(gleason_regex, text):\n",
    "    major = int(match.group(1))\n",
    "    minor = int(match.group(2))\n",
    "    max_gleason = max(max_gleason, major+minor)\n",
    "    if major+minor >= 7:\n",
    "        print(\"   csPCA: %i+%i\" % (major, minor))\n",
    "    else:\n",
    "        print(\"No csPCa: %i+%i\" % (major, minor))\n",
    "print(\"\\nMax Gleason score: %i\" % (max_gleason))"
   ]
  },
  {
   "cell_type": "code",
   "execution_count": null,
   "id": "bef6f014-4743-40ad-93bd-1ca4e8ab4c0e",
   "metadata": {},
   "outputs": [],
   "source": []
  }
 ],
 "metadata": {
  "kernelspec": {
   "display_name": "Python 3 (ipykernel)",
   "language": "python",
   "name": "python3"
  },
  "language_info": {
   "codemirror_mode": {
    "name": "ipython",
    "version": 3
   },
   "file_extension": ".py",
   "mimetype": "text/x-python",
   "name": "python",
   "nbconvert_exporter": "python",
   "pygments_lexer": "ipython3",
   "version": "3.8.5"
  }
 },
 "nbformat": 4,
 "nbformat_minor": 5
}
