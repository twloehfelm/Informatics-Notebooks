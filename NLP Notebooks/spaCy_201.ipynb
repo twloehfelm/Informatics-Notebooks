{
 "cells": [
  {
   "cell_type": "code",
   "execution_count": null,
   "id": "76dbbcea-334a-49b0-bb2e-5ab358bd8d68",
   "metadata": {},
   "outputs": [],
   "source": [
    "!pip install medspacy > /dev/null\n",
    "!pip install https://s3-us-west-2.amazonaws.com/ai2-s2-scispacy/releases/v0.4.0/en_core_sci_sm-0.4.0.tar.gz > /dev/null\n"
   ]
  },
  {
   "cell_type": "markdown",
   "id": "88e81a35-d483-48f0-b92f-db891a53ff1f",
   "metadata": {},
   "source": [
    "Let's apply some of the concepts from the spaCy 101 notebook to a real world scenario. Let's try to determine the diagnostic accuracy of our RUQ US for acute cholecystitis.\n",
    "\n",
    "We'll look at some radiology report impressions and corresponding path diagnoses and determine if either report asserts the presence of 'cholecystitis' (i.e. mentions it in a *non-negated* context)."
   ]
  },
  {
   "cell_type": "code",
   "execution_count": null,
   "id": "7660b654-7a13-49b6-b0ec-bd7dc05b03c7",
   "metadata": {},
   "outputs": [],
   "source": [
    "import pprint\n",
    "import spacy\n",
    "import medspacy\n",
    "from medspacy.context import ConTextComponent\n",
    "from medspacy.visualization import visualize_dep, visualize_ent\n",
    "import json\n",
    "\n",
    "incl_scispacy_umls_linker = False\n",
    "\n",
    "# //For linking to UMLS - not required just for NER and context annotations, only if the CUIs are required\n",
    "# //Adds significantly to load time and doc processing time\n",
    "if incl_scispacy_umls_linker:\n",
    "    !pip install scispacy\n",
    "    from scispacy.linking import EntityLinker\n",
    "\n",
    "import warnings\n",
    "warnings.filterwarnings('ignore')\n",
    "\n",
    "pp = pprint.PrettyPrinter(indent=2)"
   ]
  },
  {
   "cell_type": "code",
   "execution_count": null,
   "id": "07b37b7e-fca2-4966-a02d-a49b54c81d6c",
   "metadata": {},
   "outputs": [],
   "source": [
    "# We'll load paired radiology report impressions and corresponding path reports\n",
    "# to a variable called 'data'\n",
    "with open('../resources/ruqus_acutechole.json') as json_file:\n",
    "    data = json.load(json_file)\n",
    " "
   ]
  },
  {
   "cell_type": "code",
   "execution_count": null,
   "id": "efe2c582-8a3f-487a-b8f1-a8d6d436e594",
   "metadata": {},
   "outputs": [],
   "source": [
    "# Let's peek at the first item in our data dictionary\n",
    "# See that it contains a rad_id number, rad_impression, path_id, and path_impression\n",
    "data[0]"
   ]
  },
  {
   "cell_type": "markdown",
   "id": "c1aa0ef0-c23d-440b-abc0-fa6a3432d500",
   "metadata": {},
   "source": [
    "---\n",
    "\n",
    "We'll initialize the same pipeline we used in spaCy_101:"
   ]
  },
  {
   "cell_type": "code",
   "execution_count": null,
   "id": "bf8b7b4b-93fd-4631-9103-2d6f8ba63a6e",
   "metadata": {},
   "outputs": [],
   "source": [
    "# Initialize an nlp pipeline based on the small version of the \n",
    "# English language core scientific model \"en_core_sci_sm\"\n",
    "nlp = spacy.load(\"en_core_sci_sm\")\n",
    "if incl_scispacy_umls_linker:\n",
    "    # //Add this pipeline component to get UMLS CUIs annotated\n",
    "    nlp.add_pipe(\"scispacy_linker\", config={\"resolve_abbreviations\": True, \"linker_name\": \"umls\"})\n",
    "\n",
    "# Add the ConText pipeline component to our model\n",
    "# This will determine whether NEs are negated, hypothetical, uncertain\n",
    "context = ConTextComponent(nlp)\n",
    "nlp.add_pipe(\"medspacy_context\")\n",
    "print(nlp.pipe_names)"
   ]
  },
  {
   "cell_type": "code",
   "execution_count": null,
   "id": "6f2767ad-4ae2-4d72-8e04-d092e49ec132",
   "metadata": {},
   "outputs": [],
   "source": [
    "# Here's a function that will return True if \"cholecystitis\" is found and is:\n",
    "#  a) not negated, and\n",
    "#  b) not chronic\n",
    "# Otherwise it will return False\n",
    "def find_acute_chole(text) -> bool:\n",
    "    doc = nlp(text)\n",
    "    for ent in doc.ents:\n",
    "        if \"cholecystitis\" in str(ent).lower().strip() and not \"chronic\" in str(ent).lower().strip():\n",
    "             if ent._.is_negated == False:\n",
    "                return True\n",
    "    return False"
   ]
  },
  {
   "cell_type": "code",
   "execution_count": null,
   "id": "0e7126d8-4564-4b01-a268-15faad6f2f11",
   "metadata": {},
   "outputs": [],
   "source": [
    "results = []\n",
    "for d in data:\n",
    "    # Add two new keys to our dictionary to indicate whether we think the radiology and pathology\n",
    "    # reports found acute cholecystitis or not\n",
    "    d['rad_positive'] = find_acute_chole(d['rad_impression'])\n",
    "    d['path_positive'] = find_acute_chole(d['path_dx'])\n",
    "    results.append(d)"
   ]
  },
  {
   "cell_type": "code",
   "execution_count": null,
   "id": "5120e9be-e0b5-4358-9f28-40fa2d3d15ea",
   "metadata": {},
   "outputs": [],
   "source": [
    "tp = []\n",
    "tn = []\n",
    "fp = []\n",
    "fn = []\n",
    "for r in results:\n",
    "    if r['rad_positive'] and r['path_positive']: tp.append(r)\n",
    "    if r['rad_positive'] and not r['path_positive']: fp.append(r)\n",
    "    if not r['rad_positive'] and r['path_positive']: fn.append(r)\n",
    "    if not r['rad_positive'] and not r['path_positive']: tn.append(r)"
   ]
  },
  {
   "cell_type": "code",
   "execution_count": null,
   "id": "1e1cbcd8-f139-43cc-823d-ffa741a2e0b9",
   "metadata": {},
   "outputs": [],
   "source": [
    "print(\"\"\" True Positive: %i\n",
    "False Positive: %i\n",
    " True Negative: %i\n",
    "False Negative: %i\n",
    "   Sensitivity: %s\n",
    "   Specificity: %s\n",
    "      Accuracy: %s\n",
    "\"\"\" % (\n",
    "    len(tp), \n",
    "    len(fp), \n",
    "    len(tn), \n",
    "    len(fn), \n",
    "    '{0:.2f}'.format(len(tp)/(len(tp)+len(fn))), \n",
    "    '{0:.2f}'.format(len(tn)/(len(tn)+len(fp))), \n",
    "    '{0:.2f}'.format((len(tn)+len(tp))/(len(tn)+len(fp)+len(tp)+len(fn)))\n",
    "    ))"
   ]
  },
  {
   "cell_type": "code",
   "execution_count": null,
   "id": "750c6664-8081-438f-8931-edca0637fd09",
   "metadata": {},
   "outputs": [],
   "source": [
    "# Let's review the True Positives:\n",
    "pp.pprint(tp)"
   ]
  },
  {
   "cell_type": "code",
   "execution_count": null,
   "id": "2a4a70cf-b21c-4213-926c-e9183a545c5c",
   "metadata": {},
   "outputs": [],
   "source": []
  }
 ],
 "metadata": {
  "kernelspec": {
   "display_name": "Python 3 (ipykernel)",
   "language": "python",
   "name": "python3"
  },
  "language_info": {
   "codemirror_mode": {
    "name": "ipython",
    "version": 3
   },
   "file_extension": ".py",
   "mimetype": "text/x-python",
   "name": "python",
   "nbconvert_exporter": "python",
   "pygments_lexer": "ipython3",
   "version": "3.8.5"
  }
 },
 "nbformat": 4,
 "nbformat_minor": 5
}
