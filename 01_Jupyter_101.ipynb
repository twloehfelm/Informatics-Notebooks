{
 "cells": [
  {
   "cell_type": "markdown",
   "metadata": {
    "id": "QU11kIhpvud_"
   },
   "source": [
    "<table width=\"100%\">\n",
    "    <tr>\n",
    "      <td align=\"center\" colspan=2><h1>Intro to Jupyter/Colab</h1></td>\n",
    "    </tr>\n",
    "</table>\n",
    "\n",
    "We are using **Jupyter Notebooks**, interactive Python programming environment very common in data science.\n",
    "\n",
    "Jupyter Notebooks are not static web pages, but instead are composed of individual 'cells', each a runnable block of code.\n",
    "\n",
    "To execute the code in a cell, place your cursor anywhere inside the cell and press ```<Shift+Enter>```.\n",
    "\n",
    "Try executing this cell now.\n",
    "\n",
    "---\n",
    "\n",
    "\n",
    "\n"
   ]
  },
  {
   "cell_type": "markdown",
   "metadata": {
    "id": "0K-eb1H0xvMs"
   },
   "source": [
    "Not much happened - that's because the cell you ran didn't have any executable code.\n",
    "\n",
    "Cells can contain plain text, like this and the previous one, or they can contain Python code. In either case, you can press ```<Shift+Enter>``` to 'run' the cell and advance to the next one, whether you are in a text cell or a code cell.\n",
    "\n",
    "Try executing the code in the next cell.\n",
    "\n",
    "\n",
    "---\n",
    "\n"
   ]
  },
  {
   "cell_type": "code",
   "execution_count": null,
   "metadata": {
    "id": "sfwPTVHovq8a"
   },
   "outputs": [],
   "source": [
    "3+4"
   ]
  },
  {
   "cell_type": "markdown",
   "metadata": {
    "id": "3ZkICey0ybPS"
   },
   "source": [
    "**Great!** That was a code cell. Notice that the output prints right after the cell. This is part of what makes Jupyter Notebook such a great way to learn Python - you can test in real time as you are writing.\n",
    "\n",
    "\n",
    "---\n",
    "\n"
   ]
  },
  {
   "cell_type": "markdown",
   "metadata": {
    "id": "ji9VWLtL5WkK"
   },
   "source": [
    "This Notebook is running on a virtual computer (VM) running a linux operating system created on-the-fly for the sole purpose of running this notebook.\n",
    "\n",
    "Like any computer the VM has a file system, and we have access to it - later on we'll be creating specific files and directories to save our images to.\n",
    "\n",
    "We can even run commands *on the VM* rather than in this Notebook by adding an ```!``` to the start of the command and then using any standard linux command line functions.\n",
    "\n",
    "For example, to figure out what directory we are currently working in - the **p**resent **w**orking **d**irectory - we'll run:\n",
    "\n",
    "```! pwd```"
   ]
  },
  {
   "cell_type": "code",
   "execution_count": null,
   "metadata": {
    "id": "_GRP3cc06rSy"
   },
   "outputs": [],
   "source": [
    "! pwd"
   ]
  },
  {
   "cell_type": "markdown",
   "metadata": {
    "id": "qUDwNHyB-Dd5"
   },
   "source": [
    "To list the contents of the current directory, we'll run:\n",
    "\n",
    "```! ls```"
   ]
  },
  {
   "cell_type": "code",
   "execution_count": null,
   "metadata": {
    "id": "qhtQk_Xm9bRz"
   },
   "outputs": [],
   "source": [
    "! ls"
   ]
  },
  {
   "cell_type": "markdown",
   "metadata": {
    "id": "7XkJ50-dzxcM"
   },
   "source": [
    "To help make sense of the next notebooks, which contain more complicated coding concepts, here are some basic references:"
   ]
  },
  {
   "cell_type": "code",
   "execution_count": null,
   "metadata": {
    "id": "7CUVQZHfyIwo"
   },
   "outputs": [],
   "source": [
    "# COMMENTS are lines of text in a code cell each preceded by a hashtag (#).\n",
    "# Commented text is not executed but it is good practice for programmers to \n",
    "# explain what a particular block of code does.\n",
    "\n",
    "# A different format for adding comments is to enclose text in three consecutive double quotes\n",
    "# This format is good when the comment spans multiple lines since the quotes \n",
    "# only need to be added to the start and end of the comment, not on each line\n",
    "# It is often used to describe the arguments (input) and return (output)\n",
    "# of a function:\n",
    "import math\n",
    "def vol_ellipsoid(dims):\n",
    "  \"\"\"Calculates the volume of an ellipsoid given the three perpendicular dimensions\n",
    "    args:\n",
    "      [x,y,z] dimensions\n",
    "    returns:\n",
    "      volume, calculated as  pi/6 * a * b * c \n",
    "    \"\"\"\n",
    "  a, b, c = dims\n",
    "  return math.pi/6 * a * b * c"
   ]
  },
  {
   "cell_type": "code",
   "execution_count": null,
   "metadata": {
    "id": "RMqrSdc21v-n"
   },
   "outputs": [],
   "source": [
    "# After we've defined a function, we can 'call' it:\n",
    "vol_ellipsoid([12, 6, 5.5])"
   ]
  },
  {
   "cell_type": "code",
   "execution_count": null,
   "metadata": {
    "id": "bAuwmH2B2n7s"
   },
   "outputs": [],
   "source": [
    "kidney_dimensions = [12, 5.5, 4.2]\n",
    "\n",
    "# We can add functions to our code by importing python modules from existing code repositories.\n",
    "# Here we are importing the Decimal function from the decimal module\n",
    "from decimal import Decimal\n",
    "\n",
    "# And then use those imported functions to manipulate data.\n",
    "# Here we are reformatting the volume of our ellipsoid into scientific notation using the Decimal function from the decimal Python library:\n",
    "kidney_volume = '%.2f' % Decimal(vol_ellipsoid(kidney_dimensions))\n",
    "print(kidney_volume)"
   ]
  },
  {
   "cell_type": "code",
   "execution_count": null,
   "metadata": {
    "id": "DQkpLPqn56Kj"
   },
   "outputs": [],
   "source": [
    "# `for` loops are a very common coding paradigm\n",
    "# They instruct the computer to step through a list and perform the same action on each item in the list\n",
    "# If the list is an integer sequence, the last item is NOT included \n",
    "\n",
    "# Range can take 1, 2, or 3 arguments:\n",
    "#  If 1 args: stop; defaults to start = 0 and step = 1\n",
    "#  If 2 args: start, stop; defaults to step = 1\n",
    "#  If 3 args: start, stop, step size\n",
    "\n",
    "x = 10\n",
    "for y in range(x):\n",
    "    print(y, end=', ')"
   ]
  },
  {
   "cell_type": "code",
   "execution_count": null,
   "metadata": {
    "id": "yz2gig4O56Kk"
   },
   "outputs": [],
   "source": [
    "for y in range(3, x):\n",
    "    print(y, end=', ')"
   ]
  },
  {
   "cell_type": "code",
   "execution_count": null,
   "metadata": {
    "id": "AyqsAFsb56Kk"
   },
   "outputs": [],
   "source": [
    "for y in range(0, x, 2):\n",
    "    print(y, end=', ')"
   ]
  },
  {
   "cell_type": "code",
   "execution_count": null,
   "metadata": {
    "id": "H0Ho9-eq2HKU"
   },
   "outputs": [],
   "source": [
    "#We can also create arbitrary data constructs to store and later retrieve information\n",
    "class Person:\n",
    "  def __init__(self, firstname, lastname, institution):\n",
    "    self.firstname = firstname\n",
    "    self.lastname = lastname\n",
    "    self.institution = institution"
   ]
  },
  {
   "cell_type": "code",
   "execution_count": null,
   "metadata": {
    "id": "hGYOUx422IaP"
   },
   "outputs": [],
   "source": [
    "# Define an empty list called Instructors\n",
    "instructors = []\n",
    "instructors"
   ]
  },
  {
   "cell_type": "code",
   "execution_count": null,
   "metadata": {
    "id": "hu7SzwodjOR8"
   },
   "outputs": [],
   "source": [
    "# Add to the instructors list\n",
    "george = Person('George', 'Shih', 'Cornell')\n",
    "marc = Person('Marc', 'Kohli', 'UCSF')\n",
    "andrew = Person('Andrew', 'Smith', 'UAB')\n",
    "\n",
    "# Append items one-at-a-time\n",
    "instructors.append(george)\n",
    "instructors.append(marc)\n",
    "instructors.append(andrew)\n",
    "\n",
    "# Alternatively, we could have used extend to add multiple items to the list\n",
    "# instructors.extend((george, marc, andrew))"
   ]
  },
  {
   "cell_type": "code",
   "execution_count": null,
   "metadata": {
    "id": "Vr5fXClD3S9d"
   },
   "outputs": [],
   "source": [
    "instructors"
   ]
  },
  {
   "cell_type": "code",
   "execution_count": null,
   "metadata": {
    "id": "9NWI83gg3zot"
   },
   "outputs": [],
   "source": [
    "instructors[0]"
   ]
  },
  {
   "cell_type": "code",
   "execution_count": null,
   "metadata": {
    "id": "tMuhymGH31L8"
   },
   "outputs": [],
   "source": [
    "instructors[0].firstname"
   ]
  },
  {
   "cell_type": "code",
   "execution_count": null,
   "metadata": {
    "id": "APwz2cna33jt"
   },
   "outputs": [],
   "source": [
    "print(\"Today's instructors are:\")\n",
    "\n",
    "for p in instructors:\n",
    "  print(\"  * %s %s (%s)\" % (p.firstname, p.lastname, p.institution))"
   ]
  },
  {
   "cell_type": "code",
   "execution_count": null,
   "metadata": {
    "id": "PNctVmjVjvPU"
   },
   "outputs": [],
   "source": [
    "# We can continue to add and remove entries from the Instructors list later in the program\n",
    "instructors.append(Person('Thomas', 'Loehfelm', 'UC Davis'))\n",
    "\n",
    "print(\"Today's instructors are:\")\n",
    "\n",
    "for p in instructors:\n",
    "  print(\"  * %s %s (%s)\" % (p.firstname, p.lastname, p.institution))"
   ]
  },
  {
   "cell_type": "code",
   "execution_count": null,
   "metadata": {
    "id": "cTqmuQMvj3Zy"
   },
   "outputs": [],
   "source": [
    "# We can sort the list by any property of the list items\n",
    "print(\"Today's instructors are:\")\n",
    "\n",
    "for p in sorted(instructors, key=lambda p: p.firstname):\n",
    "  print(\"  * %s %s (%s)\" % (p.firstname, p.lastname, p.institution))"
   ]
  },
  {
   "cell_type": "code",
   "execution_count": null,
   "metadata": {
    "id": "u74x6LNypPJA"
   },
   "outputs": [],
   "source": []
  }
 ],
 "metadata": {
  "colab": {
   "collapsed_sections": [],
   "name": "SAR2020 - Intro to Jupyter.ipynb",
   "provenance": [],
   "toc_visible": true
  },
  "kernelspec": {
   "display_name": "Python 3 (ipykernel)",
   "language": "python",
   "name": "python3"
  },
  "language_info": {
   "codemirror_mode": {
    "name": "ipython",
    "version": 3
   },
   "file_extension": ".py",
   "mimetype": "text/x-python",
   "name": "python",
   "nbconvert_exporter": "python",
   "pygments_lexer": "ipython3",
   "version": "3.8.5"
  }
 },
 "nbformat": 4,
 "nbformat_minor": 4
}
